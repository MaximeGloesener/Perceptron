{
 "cells": [
  {
   "cell_type": "code",
   "execution_count": 1,
   "metadata": {},
   "outputs": [],
   "source": [
    "import scipy.io \n",
    "\n",
    "data = scipy.io.loadmat(\"data_doc.mat\")"
   ]
  },
  {
   "cell_type": "code",
   "execution_count": 2,
   "metadata": {},
   "outputs": [],
   "source": [
    "# données entrainement\n",
    "xts = data[\"Xts\"]\n",
    "# classes\n",
    "yts = data[\"yts\"]\n",
    "# données validation qu'il faut prédire\n",
    "xvr = data[\"Xvr\"]"
   ]
  },
  {
   "cell_type": "code",
   "execution_count": 6,
   "metadata": {},
   "outputs": [],
   "source": [
    "import pandas as pd\n",
    "\n",
    "dfXts = pd.DataFrame(xts.toarray())\n",
    "dfYts = pd.DataFrame(yts)\n",
    "dfXvr = pd.DataFrame(xvr.toarray())"
   ]
  }
 ],
 "metadata": {
  "kernelspec": {
   "display_name": "Python 3",
   "language": "python",
   "name": "python3"
  },
  "language_info": {
   "codemirror_mode": {
    "name": "ipython",
    "version": 3
   },
   "file_extension": ".py",
   "mimetype": "text/x-python",
   "name": "python",
   "nbconvert_exporter": "python",
   "pygments_lexer": "ipython3",
   "version": "3.10.0"
  },
  "orig_nbformat": 4,
  "vscode": {
   "interpreter": {
    "hash": "d14695ea5945e3f4f0ac238f520c0cbdd58c9ea49b8d1a8480368eb73727c69d"
   }
  }
 },
 "nbformat": 4,
 "nbformat_minor": 2
}
